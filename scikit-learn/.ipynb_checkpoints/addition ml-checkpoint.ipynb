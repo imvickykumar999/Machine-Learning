{
 "cells": [
  {
   "cell_type": "markdown",
   "metadata": {},
   "source": [
    "# [A Simple Deep Learning Model to Add Two Numbers](https://www.pluralsight.com/guides/deep-learning-model-add)"
   ]
  },
  {
   "cell_type": "code",
   "execution_count": 9,
   "metadata": {},
   "outputs": [
    {
     "name": "stdout",
     "output_type": "stream",
     "text": [
      "[[1. 1.]]\n"
     ]
    }
   ],
   "source": [
    "class data_creation():\n",
    "    import numpy as np \n",
    "    train_data = np.array([[1.0,1.0]])\n",
    "    train_targets = np.array([2.0])\n",
    "#     print(train_data)\n",
    "    \n",
    "    for i in range(3,10000,2):\n",
    "        train_data= np.append(train_data,[[i,i]],axis=0)\n",
    "        train_targets= np.append(train_targets,[i+i])\n",
    "        \n",
    "    test_data = np.array([[2.0,2.0]])\n",
    "    test_targets = np.array([4.0])\n",
    "    \n",
    "    for i in range(4,8000,4):\n",
    "        test_data = np.append(test_data,[[i,i]],axis=0)\n",
    "        test_targets = np.append(test_targets,[i+i])"
   ]
  },
  {
   "cell_type": "code",
   "execution_count": 11,
   "metadata": {},
   "outputs": [
    {
     "name": "stdout",
     "output_type": "stream",
     "text": [
      "Epoch 1/10\n",
      "5000/5000 [==============================] - 5s 985us/step - loss: 2188809.5000 - mae: 246.9093\n",
      "Epoch 2/10\n",
      "5000/5000 [==============================] - 4s 899us/step - loss: 185.9530 - mae: 2.1117\n",
      "Epoch 3/10\n",
      "5000/5000 [==============================] - 4s 851us/step - loss: 854.2589 - mae: 8.1686\n",
      "Epoch 4/10\n",
      "5000/5000 [==============================] - 5s 1ms/step - loss: 855.4691 - mae: 6.7354\n",
      "Epoch 5/10\n",
      "5000/5000 [==============================] - 4s 888us/step - loss: 1002.3956 - mae: 7.9335\n",
      "Epoch 6/10\n",
      "5000/5000 [==============================] - 4s 890us/step - loss: 462.0264 - mae: 6.0182\n",
      "Epoch 7/10\n",
      "5000/5000 [==============================] - 4s 881us/step - loss: 727.1937 - mae: 8.5937\n",
      "Epoch 8/10\n",
      "5000/5000 [==============================] - 4s 890us/step - loss: 844.2597 - mae: 5.4140\n",
      "Epoch 9/10\n",
      "5000/5000 [==============================] - 4s 888us/step - loss: 982.3967 - mae: 5.2978\n",
      "Epoch 10/10\n",
      "5000/5000 [==============================] - 5s 958us/step - loss: 1271.5001 - mae: 6.1660\n",
      "63/63 [==============================] - 0s 762us/step - loss: 0.0191 - mae: 0.1141\n",
      "Test accuracy: 0.1140943095088005\n",
      "[[4843.189   ]\n",
      " [   9.131622]]\n"
     ]
    }
   ],
   "source": [
    "import tensorflow as tf\n",
    "from tensorflow import keras\n",
    "import numpy as np\n",
    "\n",
    "dc = data_creation()\n",
    "\n",
    "model = keras.Sequential([\n",
    "    keras.layers.Flatten(input_shape=(2,)),\n",
    "    keras.layers.Dense(20, activation=tf.nn.relu),\n",
    "    keras.layers.Dense(20, activation=tf.nn.relu),\n",
    "    keras.layers.Dense(1)\n",
    "])\n",
    "\n",
    "model.compile(optimizer='adam', \n",
    "              loss='mse',\n",
    "              metrics=['mae'])\n",
    "\n",
    "model.fit(dc.train_data, dc.train_targets, epochs=10, batch_size=1)\n",
    "\n",
    "test_loss, test_acc = model.evaluate(dc.test_data, dc.test_targets)\n",
    "print('Test accuracy:', test_acc)\n",
    "a= np.array([[2000,3000],[4,5]])\n",
    "print(model.predict(a))"
   ]
  },
  {
   "cell_type": "code",
   "execution_count": null,
   "metadata": {},
   "outputs": [],
   "source": []
  },
  {
   "cell_type": "code",
   "execution_count": null,
   "metadata": {},
   "outputs": [],
   "source": []
  }
 ],
 "metadata": {
  "kernelspec": {
   "display_name": "Python 3",
   "language": "python",
   "name": "python3"
  },
  "language_info": {
   "codemirror_mode": {
    "name": "ipython",
    "version": 3
   },
   "file_extension": ".py",
   "mimetype": "text/x-python",
   "name": "python",
   "nbconvert_exporter": "python",
   "pygments_lexer": "ipython3",
   "version": "3.8.3"
  }
 },
 "nbformat": 4,
 "nbformat_minor": 4
}
