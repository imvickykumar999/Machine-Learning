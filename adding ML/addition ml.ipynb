{
 "cells": [
  {
   "cell_type": "markdown",
   "metadata": {},
   "source": [
    "# [A Simple Deep Learning Model to Add Two Numbers](https://www.pluralsight.com/guides/deep-learning-model-add)"
   ]
  },
  {
   "cell_type": "code",
   "execution_count": 11,
   "metadata": {},
   "outputs": [],
   "source": [
    "class data_creation():\n",
    "    import numpy as np \n",
    "    train_data = np.array([[1.0,1.0]])\n",
    "    train_targets = np.array([2.0])\n",
    "    \n",
    "    for i in range(3,10000,2):\n",
    "        train_data= np.append(train_data,[[i,i]],axis=0)\n",
    "        train_targets= np.append(train_targets,[i+i])\n",
    "        \n",
    "    test_data = np.array([[2.0,2.0]])\n",
    "    test_targets = np.array([4.0])\n",
    "    \n",
    "    for i in range(4,8000,4):\n",
    "        test_data = np.append(test_data,[[i,i]],axis=0)\n",
    "        test_targets = np.append(test_targets,[i+i])"
   ]
  },
  {
   "cell_type": "code",
   "execution_count": 12,
   "metadata": {
    "scrolled": true
   },
   "outputs": [],
   "source": [
    "import tensorflow as tf\n",
    "from tensorflow import keras\n",
    "import numpy as np\n",
    "# import data_creation as dc "
   ]
  },
  {
   "cell_type": "code",
   "execution_count": 13,
   "metadata": {
    "scrolled": true
   },
   "outputs": [
    {
     "name": "stdout",
     "output_type": "stream",
     "text": [
      "Epoch 1/12\n",
      "5000/5000 [==============================] - 5s 971us/step - loss: 2083753.6250 - mae: 219.5744\n",
      "Epoch 2/12\n",
      "5000/5000 [==============================] - 5s 999us/step - loss: 357.2111 - mae: 5.1475\n",
      "Epoch 3/12\n",
      "5000/5000 [==============================] - 4s 893us/step - loss: 1350.4408 - mae: 11.1375\n",
      "Epoch 4/12\n",
      "5000/5000 [==============================] - 4s 868us/step - loss: 853.7444 - mae: 7.8513\n",
      "Epoch 5/12\n",
      "5000/5000 [==============================] - 4s 844us/step - loss: 1819.8094 - mae: 9.1115\n",
      "Epoch 6/12\n",
      "5000/5000 [==============================] - 5s 917us/step - loss: 2281.4470 - mae: 4.9757\n",
      "Epoch 7/12\n",
      "5000/5000 [==============================] - 5s 942us/step - loss: 2679.3513 - mae: 7.7592\n",
      "Epoch 8/12\n",
      "5000/5000 [==============================] - 5s 955us/step - loss: 675.0317 - mae: 5.1105 1s - l\n",
      "Epoch 9/12\n",
      "5000/5000 [==============================] - 5s 935us/step - loss: 847.1995 - mae: 7.0395\n",
      "Epoch 10/12\n",
      "5000/5000 [==============================] - 4s 886us/step - loss: 1325.2028 - mae: 6.9115\n",
      "Epoch 11/12\n",
      "5000/5000 [==============================] - 4s 865us/step - loss: 793.2623 - mae: 5.6510\n",
      "Epoch 12/12\n",
      "5000/5000 [==============================] - 5s 969us/step - loss: 650.3879 - mae: 6.8628\n",
      "63/63 [==============================] - 0s 587us/step - loss: 0.0362 - mae: 0.1721\n"
     ]
    }
   ],
   "source": [
    "dc = data_creation()\n",
    "\n",
    "model = keras.Sequential([\n",
    "    keras.layers.Flatten(input_shape=(2,)),\n",
    "    keras.layers.Dense(20, activation=tf.nn.relu),\n",
    "    keras.layers.Dense(20, activation=tf.nn.relu),\n",
    "    keras.layers.Dense(1)\n",
    "])\n",
    "\n",
    "model.compile(optimizer='adam', \n",
    "              loss='mse',\n",
    "              metrics=['mae'])\n",
    "\n",
    "model.fit(dc.train_data, dc.train_targets, epochs=12, batch_size=1)\n",
    "\n",
    "test_loss, test_acc = model.evaluate(dc.test_data, dc.test_targets)\n",
    "model.save(\"model.h5\")"
   ]
  },
  {
   "cell_type": "code",
   "execution_count": 14,
   "metadata": {},
   "outputs": [
    {
     "name": "stdout",
     "output_type": "stream",
     "text": [
      "Test accuracy: 0.17206333577632904\n",
      "Test Loss: 0.03623269125819206\n"
     ]
    }
   ],
   "source": [
    "print('Test accuracy:', test_acc)\n",
    "print('Test Loss:', test_loss)"
   ]
  },
  {
   "cell_type": "code",
   "execution_count": 15,
   "metadata": {},
   "outputs": [
    {
     "data": {
      "text/plain": [
       "<tensorflow.python.keras.engine.sequential.Sequential at 0x208719c25b0>"
      ]
     },
     "execution_count": 15,
     "metadata": {},
     "output_type": "execute_result"
    }
   ],
   "source": [
    "from keras.models import load_model\n",
    "model = load_model('model.h5')\n",
    "model"
   ]
  },
  {
   "cell_type": "code",
   "execution_count": 16,
   "metadata": {},
   "outputs": [
    {
     "name": "stdout",
     "output_type": "stream",
     "text": [
      "[[5139.93    ]\n",
      " [   9.445786]]\n"
     ]
    }
   ],
   "source": [
    "a= np.array([[2000,3000],[4,5]])\n",
    "print(model.predict(a))"
   ]
  },
  {
   "cell_type": "code",
   "execution_count": 17,
   "metadata": {},
   "outputs": [
    {
     "data": {
      "text/plain": [
       "2.3064653873443604"
      ]
     },
     "execution_count": 17,
     "metadata": {},
     "output_type": "execute_result"
    }
   ],
   "source": [
    "x, y = 1, 1\n",
    "\n",
    "a= np.array([[x,y]])\n",
    "z = model.predict(a)\n",
    "z = float(z[0][0])\n",
    "\n",
    "z"
   ]
  },
  {
   "cell_type": "code",
   "execution_count": 18,
   "metadata": {},
   "outputs": [
    {
     "data": {
      "text/plain": [
       "0.30646538734436035"
      ]
     },
     "execution_count": 18,
     "metadata": {},
     "output_type": "execute_result"
    }
   ],
   "source": [
    "error = z - (x+y)\n",
    "error"
   ]
  },
  {
   "cell_type": "code",
   "execution_count": 19,
   "metadata": {
    "scrolled": true
   },
   "outputs": [
    {
     "name": "stdout",
     "output_type": "stream",
     "text": [
      "0 + 1 = 1.715148687362671\n",
      "1 + 2 = 3.528700828552246\n",
      "2 + 3 = 5.441521167755127\n",
      "3 + 4 = 7.423551559448242\n",
      "4 + 5 = 9.445786476135254\n",
      "5 + 6 = 11.446497917175293\n",
      "6 + 7 = 13.447209358215332\n",
      "7 + 8 = 15.447921752929688\n",
      "8 + 9 = 17.448633193969727\n",
      "9 + 10 = 19.4493465423584\n",
      "10 + 11 = 21.450056076049805\n",
      "11 + 12 = 23.450769424438477\n",
      "12 + 13 = 25.451480865478516\n",
      "13 + 14 = 27.452192306518555\n",
      "14 + 15 = 29.45290184020996\n",
      "15 + 16 = 31.453615188598633\n",
      "16 + 17 = 33.45432662963867\n",
      "17 + 18 = 35.455039978027344\n",
      "18 + 19 = 37.455753326416016\n",
      "19 + 20 = 39.456459045410156\n",
      "20 + 21 = 41.45717239379883\n",
      "21 + 22 = 43.4578857421875\n",
      "22 + 23 = 45.45859146118164\n",
      "23 + 24 = 47.45930862426758\n",
      "24 + 25 = 49.460018157958984\n",
      "25 + 26 = 51.46018981933594\n",
      "26 + 27 = 53.46015548706055\n",
      "27 + 28 = 55.460121154785156\n",
      "28 + 29 = 57.460086822509766\n",
      "29 + 30 = 59.460052490234375\n",
      "30 + 31 = 61.46001434326172\n",
      "31 + 32 = 63.45998001098633\n",
      "32 + 33 = 65.45995330810547\n",
      "33 + 34 = 67.45990753173828\n",
      "34 + 35 = 69.45986938476562\n",
      "35 + 36 = 71.4598388671875\n",
      "36 + 37 = 73.45980072021484\n",
      "37 + 38 = 75.45977020263672\n",
      "38 + 39 = 77.45973205566406\n",
      "39 + 40 = 79.4596939086914\n",
      "40 + 41 = 81.45966339111328\n",
      "41 + 42 = 83.45963287353516\n",
      "42 + 43 = 85.4595947265625\n",
      "43 + 44 = 87.45955657958984\n",
      "44 + 45 = 89.45951843261719\n",
      "45 + 46 = 91.45948791503906\n",
      "46 + 47 = 93.45945739746094\n",
      "47 + 48 = 95.45941162109375\n",
      "48 + 49 = 97.4593734741211\n",
      "49 + 50 = 99.4593505859375\n",
      "50 + 51 = 101.45931243896484\n",
      "51 + 52 = 103.45927429199219\n",
      "52 + 53 = 105.459228515625\n",
      "53 + 54 = 107.45919036865234\n",
      "54 + 55 = 109.45917510986328\n",
      "55 + 56 = 111.4591293334961\n",
      "56 + 57 = 113.45909881591797\n",
      "57 + 58 = 115.45906066894531\n",
      "58 + 59 = 117.45903778076172\n",
      "59 + 60 = 119.45899963378906\n",
      "60 + 61 = 121.45895385742188\n",
      "61 + 62 = 123.45891571044922\n",
      "62 + 63 = 125.45889282226562\n",
      "63 + 64 = 127.45885467529297\n",
      "64 + 65 = 129.4588165283203\n",
      "65 + 66 = 131.4587860107422\n",
      "66 + 67 = 133.45875549316406\n",
      "67 + 68 = 135.45872497558594\n",
      "68 + 69 = 137.45867919921875\n",
      "69 + 70 = 139.45863342285156\n",
      "70 + 71 = 141.45860290527344\n",
      "71 + 72 = 143.4585723876953\n",
      "72 + 73 = 145.4585418701172\n",
      "73 + 74 = 147.45849609375\n",
      "74 + 75 = 149.4584503173828\n",
      "75 + 76 = 151.45843505859375\n",
      "76 + 77 = 153.45838928222656\n",
      "77 + 78 = 155.45835876464844\n",
      "78 + 79 = 157.4583282470703\n",
      "79 + 80 = 159.4582977294922\n",
      "80 + 81 = 161.458251953125\n",
      "81 + 82 = 163.45822143554688\n",
      "82 + 83 = 165.45819091796875\n",
      "83 + 84 = 167.45814514160156\n",
      "84 + 85 = 169.45811462402344\n",
      "85 + 86 = 171.45806884765625\n",
      "86 + 87 = 173.4580535888672\n",
      "87 + 88 = 175.4580078125\n",
      "88 + 89 = 177.4579620361328\n",
      "89 + 90 = 179.4579315185547\n",
      "90 + 91 = 181.4578857421875\n",
      "91 + 92 = 183.45785522460938\n",
      "92 + 93 = 185.4578094482422\n",
      "93 + 94 = 187.45779418945312\n",
      "94 + 95 = 189.45777893066406\n",
      "95 + 96 = 191.4577178955078\n",
      "96 + 97 = 193.45767211914062\n",
      "97 + 98 = 195.4576416015625\n",
      "98 + 99 = 197.45761108398438\n",
      "99 + 100 = 199.45758056640625\n"
     ]
    }
   ],
   "source": [
    "for i in range(100):\n",
    "    x, y = i, i+1\n",
    "\n",
    "    a= np.array([[x,y]])\n",
    "    z = model.predict(a)\n",
    "    z = float(z[0][0])\n",
    "\n",
    "    print(f'{x} + {y} = {z}') "
   ]
  },
  {
   "cell_type": "code",
   "execution_count": null,
   "metadata": {},
   "outputs": [],
   "source": []
  }
 ],
 "metadata": {
  "kernelspec": {
   "display_name": "Python 3",
   "language": "python",
   "name": "python3"
  },
  "language_info": {
   "codemirror_mode": {
    "name": "ipython",
    "version": 3
   },
   "file_extension": ".py",
   "mimetype": "text/x-python",
   "name": "python",
   "nbconvert_exporter": "python",
   "pygments_lexer": "ipython3",
   "version": "3.8.3"
  }
 },
 "nbformat": 4,
 "nbformat_minor": 4
}
