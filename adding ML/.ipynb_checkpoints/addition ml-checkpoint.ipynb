{
 "cells": [
  {
   "cell_type": "markdown",
   "metadata": {},
   "source": [
    "# [A Simple Deep Learning Model to Add Two Numbers](https://www.pluralsight.com/guides/deep-learning-model-add)"
   ]
  },
  {
   "cell_type": "code",
   "execution_count": 11,
   "metadata": {},
   "outputs": [],
   "source": [
    "class data_creation():\n",
    "    import numpy as np \n",
    "    train_data = np.array([[1.0,1.0]])\n",
    "    train_targets = np.array([2.0])\n",
    "    \n",
    "    for i in range(3,10000,2):\n",
    "        train_data= np.append(train_data,[[i,i]],axis=0)\n",
    "        train_targets= np.append(train_targets,[i+i])\n",
    "        \n",
    "    test_data = np.array([[2.0,2.0]])\n",
    "    test_targets = np.array([4.0])\n",
    "    \n",
    "    for i in range(4,8000,4):\n",
    "        test_data = np.append(test_data,[[i,i]],axis=0)\n",
    "        test_targets = np.append(test_targets,[i+i])"
   ]
  },
  {
   "cell_type": "code",
   "execution_count": 12,
   "metadata": {
    "scrolled": true
   },
   "outputs": [],
   "source": [
    "import tensorflow as tf\n",
    "from tensorflow import keras\n",
    "import numpy as np\n",
    "# import data_creation as dc "
   ]
  },
  {
   "cell_type": "code",
   "execution_count": null,
   "metadata": {
    "scrolled": true
   },
   "outputs": [
    {
     "name": "stdout",
     "output_type": "stream",
     "text": [
      "Epoch 1/12\n",
      "3338/5000 [===================>..........] - ETA: 1s - loss: 3121260.5000 - mae: 328.6635- ETA: 2s - loss: 498744"
     ]
    }
   ],
   "source": [
    "dc = data_creation()\n",
    "\n",
    "model = keras.Sequential([\n",
    "    keras.layers.Flatten(input_shape=(2,)),\n",
    "    keras.layers.Dense(20, activation=tf.nn.relu),\n",
    "    keras.layers.Dense(20, activation=tf.nn.relu),\n",
    "    keras.layers.Dense(1)\n",
    "])\n",
    "\n",
    "model.compile(optimizer='adam', \n",
    "              loss='mse',\n",
    "              metrics=['mae'])\n",
    "\n",
    "model.fit(dc.train_data, dc.train_targets, epochs=12, batch_size=1)\n",
    "\n",
    "test_loss, test_acc = model.evaluate(dc.test_data, dc.test_targets)\n",
    "model.save(\"model.h5\")"
   ]
  },
  {
   "cell_type": "code",
   "execution_count": null,
   "metadata": {},
   "outputs": [],
   "source": [
    "print('Test accuracy:', test_acc)\n",
    "print('Test Loss:', test_loss)"
   ]
  },
  {
   "cell_type": "code",
   "execution_count": null,
   "metadata": {},
   "outputs": [],
   "source": [
    "from keras.models import load_model\n",
    "model = load_model('model.h5')\n",
    "model"
   ]
  },
  {
   "cell_type": "code",
   "execution_count": null,
   "metadata": {},
   "outputs": [],
   "source": [
    "a= np.array([[2000,3000],[4,5]])\n",
    "print(model.predict(a))"
   ]
  },
  {
   "cell_type": "code",
   "execution_count": null,
   "metadata": {},
   "outputs": [],
   "source": [
    "x, y = 1, 1\n",
    "\n",
    "a= np.array([[x,y]])\n",
    "z = model.predict(a)\n",
    "z = float(z[0][0])\n",
    "\n",
    "z"
   ]
  },
  {
   "cell_type": "code",
   "execution_count": null,
   "metadata": {},
   "outputs": [],
   "source": [
    "error = z - (x+y)\n",
    "error"
   ]
  },
  {
   "cell_type": "code",
   "execution_count": null,
   "metadata": {
    "scrolled": true
   },
   "outputs": [],
   "source": [
    "for i in range(100):\n",
    "    x, y = i, i+1\n",
    "\n",
    "    a= np.array([[x,y]])\n",
    "    z = model.predict(a)\n",
    "    z = float(z[0][0])\n",
    "\n",
    "    print(f'{x} + {y} = {z}') "
   ]
  },
  {
   "cell_type": "code",
   "execution_count": null,
   "metadata": {},
   "outputs": [],
   "source": []
  }
 ],
 "metadata": {
  "kernelspec": {
   "display_name": "Python 3",
   "language": "python",
   "name": "python3"
  },
  "language_info": {
   "codemirror_mode": {
    "name": "ipython",
    "version": 3
   },
   "file_extension": ".py",
   "mimetype": "text/x-python",
   "name": "python",
   "nbconvert_exporter": "python",
   "pygments_lexer": "ipython3",
   "version": "3.8.3"
  }
 },
 "nbformat": 4,
 "nbformat_minor": 4
}
